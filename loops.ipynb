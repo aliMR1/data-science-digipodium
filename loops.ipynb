{
 "cells": [
  {
   "cell_type": "markdown",
   "metadata": {},
   "source": [
    "# for"
   ]
  },
  {
   "cell_type": "markdown",
   "metadata": {},
   "source": [
    "\n",
    "for \n",
    " \n",
    "iterables are string,list,tuple,set,dict,generators,etc"
   ]
  },
  {
   "cell_type": "code",
   "execution_count": 6,
   "metadata": {},
   "outputs": [
    {
     "name": "stdout",
     "output_type": "stream",
     "text": [
      "1\n",
      "4\n",
      "9\n",
      "625\n",
      "36\n",
      "16\n",
      "36\n",
      "441\n",
      "25\n",
      "36\n"
     ]
    }
   ],
   "source": [
    "nums=[1,2,3,25,6,4,6,21,5,6]\n",
    "for i in  nums :\n",
    "    print(i**2)\n"
   ]
  },
  {
   "cell_type": "markdown",
   "metadata": {},
   "source": [
    "# enumerate\n",
    "# zip"
   ]
  },
  {
   "cell_type": "code",
   "execution_count": 5,
   "metadata": {},
   "outputs": [
    {
     "name": "stdout",
     "output_type": "stream",
     "text": [
      "0 john\n",
      "1 dave\n",
      "2 ali\n",
      "3 mo\n"
     ]
    }
   ],
   "source": [
    "names = ['john','dave','ali','mo']\n",
    "for idx,name in enumerate(names):\n",
    "    print(idx,name)"
   ]
  },
  {
   "cell_type": "code",
   "execution_count": 3,
   "metadata": {},
   "outputs": [
    {
     "name": "stdout",
     "output_type": "stream",
     "text": [
      "2\n",
      "12\n",
      "24\n",
      "40\n",
      "70\n"
     ]
    }
   ],
   "source": [
    "x = [2,4,6,8,10]\n",
    "y = [1,3,4,5,7,9]\n",
    "for i,j in zip(x,y):\n",
    "    print(i*j)"
   ]
  },
  {
   "cell_type": "code",
   "execution_count": 12,
   "metadata": {},
   "outputs": [
    {
     "name": "stdout",
     "output_type": "stream",
     "text": [
      "Interstellar        8.5🌟\n",
      "Rush                9.9🌟\n",
      "Oppenheimer         8.6🌟\n"
     ]
    }
   ],
   "source": [
    "movies=['Interstellar','Rush','Oppenheimer']\n",
    "rating=[8.5,9.9,8.6]\n",
    "\n",
    "for name,star in zip(movies,rating):\n",
    "    print(f'{name:20}{star}🌟')"
   ]
  },
  {
   "cell_type": "markdown",
   "metadata": {},
   "source": [
    "break and continue"
   ]
  },
  {
   "cell_type": "code",
   "execution_count": 4,
   "metadata": {},
   "outputs": [
    {
     "name": "stdout",
     "output_type": "stream",
     "text": [
      "1 2 3 5 6 7 6 "
     ]
    }
   ],
   "source": [
    "x=[1,2,3,5,6,7,6,0,7,8,7,6]\n",
    "for i in x:\n",
    "    if i==0:\n",
    "        break\n",
    "    print(i, end=' ')\n"
   ]
  },
  {
   "cell_type": "code",
   "execution_count": 11,
   "metadata": {},
   "outputs": [
    {
     "name": "stdout",
     "output_type": "stream",
     "text": [
      "1 2 3 5 6 7 6 7 8 7 6 loop completed\n"
     ]
    }
   ],
   "source": [
    "x=[1,2,3,5,6,7,6,7,8,7,6]\n",
    "for i in x:\n",
    "    if i==0:\n",
    "        break\n",
    "    print(i, end=' ')\n",
    "else:\n",
    "    print('loop completed')"
   ]
  },
  {
   "cell_type": "code",
   "execution_count": 19,
   "metadata": {},
   "outputs": [
    {
     "name": "stdout",
     "output_type": "stream",
     "text": [
      "15 % 2 = 1\n",
      "15 % 3 = 0\n",
      "not prime\n"
     ]
    }
   ],
   "source": [
    "num=int(input('enter a number: '))\n",
    "for i in range(2,num):\n",
    "    print(f'{num} % {i} = {num % i}')\n",
    "    if num%i==0:\n",
    "        print('not prime')\n",
    "        break\n",
    "else:\n",
    "    print('prime')"
   ]
  },
  {
   "cell_type": "code",
   "execution_count": 20,
   "metadata": {},
   "outputs": [
    {
     "name": "stdout",
     "output_type": "stream",
     "text": [
      "1 2 3 4 5 2 23 153 13 5 "
     ]
    }
   ],
   "source": [
    "x=[1,2,None,3,4,5,None,2,23,153,13,None,5]\n",
    "for num in x:\n",
    "    if num is None:\n",
    "        continue\n",
    "    print(num,end=' ')"
   ]
  },
  {
   "cell_type": "code",
   "execution_count": 23,
   "metadata": {},
   "outputs": [
    {
     "name": "stdout",
     "output_type": "stream",
     "text": [
      "1 2 3 4 5 2 23 153 13 5 "
     ]
    }
   ],
   "source": [
    "for num in x:\n",
    "    if num is not None:\n",
    "        print(num,end=' ')"
   ]
  },
  {
   "cell_type": "code",
   "execution_count": 28,
   "metadata": {},
   "outputs": [
    {
     "name": "stdout",
     "output_type": "stream",
     "text": [
      "total is:  60\n"
     ]
    }
   ],
   "source": [
    "odd_sum=0\n",
    "for num in x:\n",
    "    if num is not None and num%2!=0:\n",
    "        odd_sum += num\n",
    "print('total is: ',odd_sum)\n",
    "\n",
    "        "
   ]
  },
  {
   "cell_type": "markdown",
   "metadata": {},
   "source": [
    "infinite loop"
   ]
  },
  {
   "cell_type": "code",
   "execution_count": 1,
   "metadata": {},
   "outputs": [
    {
     "name": "stdout",
     "output_type": "stream",
     "text": [
      "❌wrong username\n",
      "❌wrong username\n",
      "❌wrong username\n",
      "❌wrong username\n",
      "❌wrong username\n"
     ]
    }
   ],
   "source": [
    "while True:\n",
    "    user=input ('enter your name😊: ')\n",
    "    password=input('enter password🗝️: ')\n",
    "    if user== 'admin':\n",
    "        if password== 'secret':\n",
    "            print('✅welcome')\n",
    "            break\n",
    "        else:\n",
    "            print('❌wrong password')\n",
    "    else:\n",
    "        print('❌wrong username')\n",
    "        "
   ]
  },
  {
   "cell_type": "code",
   "execution_count": null,
   "metadata": {},
   "outputs": [],
   "source": []
  }
 ],
 "metadata": {
  "kernelspec": {
   "display_name": "base",
   "language": "python",
   "name": "python3"
  },
  "language_info": {
   "codemirror_mode": {
    "name": "ipython",
    "version": 3
   },
   "file_extension": ".py",
   "mimetype": "text/x-python",
   "name": "python",
   "nbconvert_exporter": "python",
   "pygments_lexer": "ipython3",
   "version": "3.10.10"
  },
  "orig_nbformat": 4
 },
 "nbformat": 4,
 "nbformat_minor": 2
}
