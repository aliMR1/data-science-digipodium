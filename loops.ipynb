{
 "cells": [
  {
   "cell_type": "markdown",
   "metadata": {},
   "source": [
    "# for"
   ]
  },
  {
   "cell_type": "markdown",
   "metadata": {},
   "source": [
    "\n",
    "for \n",
    " \n",
    "iterables are string,list,tuple,set,dict,generators,etc"
   ]
  },
  {
   "cell_type": "code",
   "execution_count": 6,
   "metadata": {},
   "outputs": [
    {
     "name": "stdout",
     "output_type": "stream",
     "text": [
      "1\n",
      "4\n",
      "9\n",
      "625\n",
      "36\n",
      "16\n",
      "36\n",
      "441\n",
      "25\n",
      "36\n"
     ]
    }
   ],
   "source": [
    "nums=[1,2,3,25,6,4,6,21,5,6]\n",
    "for i in  nums :\n",
    "    print(i**2)\n"
   ]
  },
  {
   "cell_type": "markdown",
   "metadata": {},
   "source": [
    "# enumerate\n",
    "# zip"
   ]
  },
  {
   "cell_type": "code",
   "execution_count": 10,
   "metadata": {},
   "outputs": [
    {
     "name": "stdout",
     "output_type": "stream",
     "text": [
      "0 john\n",
      "1 dave\n",
      "2 ali\n",
      "3 mo\n"
     ]
    }
   ],
   "source": [
    "names = ['john','dave','ali','mo']\n",
    "for idx, name in enumerate(names):\n",
    "    print(idx,name)"
   ]
  },
  {
   "cell_type": "code",
   "execution_count": 13,
   "metadata": {},
   "outputs": [
    {
     "name": "stdout",
     "output_type": "stream",
     "text": [
      "2\n",
      "12\n",
      "24\n",
      "40\n",
      "70\n"
     ]
    }
   ],
   "source": [
    "x = [2,4,6,8,10]\n",
    "y=[1,3,4,5,7,9]\n",
    "for i,j in zip(x,y):\n",
    "    print(i*j)"
   ]
  },
  {
   "cell_type": "code",
   "execution_count": 15,
   "metadata": {},
   "outputs": [
    {
     "name": "stdout",
     "output_type": "stream",
     "text": [
      "Interstellar        8.5*\n",
      "Rush                9.9*\n",
      "Oppenheimer         8.6*\n"
     ]
    }
   ],
   "source": [
    "movies=['Interstellar','Rush','Oppenheimer']\n",
    "rating=[8.5,9.9,8.6]\n",
    "\n",
    "for name,star in zip(movies,rating):\n",
    "    print(f'{name:20}{star}*')"
   ]
  },
  {
   "cell_type": "code",
   "execution_count": null,
   "metadata": {},
   "outputs": [],
   "source": []
  }
 ],
 "metadata": {
  "kernelspec": {
   "display_name": "base",
   "language": "python",
   "name": "python3"
  },
  "language_info": {
   "codemirror_mode": {
    "name": "ipython",
    "version": 3
   },
   "file_extension": ".py",
   "mimetype": "text/x-python",
   "name": "python",
   "nbconvert_exporter": "python",
   "pygments_lexer": "ipython3",
   "version": "3.10.10"
  },
  "orig_nbformat": 4
 },
 "nbformat": 4,
 "nbformat_minor": 2
}
