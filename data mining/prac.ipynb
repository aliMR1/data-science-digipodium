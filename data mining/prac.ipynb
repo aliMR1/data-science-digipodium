{
 "cells": [
  {
   "cell_type": "code",
   "execution_count": 10,
   "metadata": {},
   "outputs": [
    {
     "name": "stdout",
     "output_type": "stream",
     "text": [
      "1684\n"
     ]
    }
   ],
   "source": [
    "def differenceofsum(n,m):\n",
    "    n=int(input())\n",
    "    m=int(input())\n",
    "    sd=0\n",
    "    snd=0\n",
    "    for i in range(1,m+1):\n",
    "        if(i%n==0):\n",
    "            sd+=i\n",
    "        else:\n",
    "            snd+=i\n",
    "    print(abs(snd-sd))\n",
    "differenceofsum(n,m)"
   ]
  },
  {
   "cell_type": "code",
   "execution_count": 18,
   "metadata": {},
   "outputs": [
    {
     "name": "stdout",
     "output_type": "stream",
     "text": [
      "9\n"
     ]
    }
   ],
   "source": [
    "\n",
    "    l=int(input())\n",
    "    arr=list(map(int,input().split()))\n",
    "    even_arr=[]\n",
    "    odd_arr=[]\n",
    "    for i in range(l):\n",
    "        if i%2==0:\n",
    "            even_arr.append(arr[i])\n",
    "        else:\n",
    "            odd_arr.append(arr[i])\n",
    "    even_arr=sorted(even_arr)\n",
    "    odd_arr=sorted(odd_arr)\n",
    "    print(even_arr[len(even_arr)-2]+odd_arr[1])\n"
   ]
  },
  {
   "cell_type": "code",
   "execution_count": null,
   "metadata": {},
   "outputs": [],
   "source": [
    "def Operation(str):\n",
    "    a=int(str[0])\n",
    "    i=1\n",
    "    while i< len(str):\n",
    "        if str[i]=='A':\n",
    "            a&=int(str[i+1])"
   ]
  }
 ],
 "metadata": {
  "kernelspec": {
   "display_name": "base",
   "language": "python",
   "name": "python3"
  },
  "language_info": {
   "codemirror_mode": {
    "name": "ipython",
    "version": 3
   },
   "file_extension": ".py",
   "mimetype": "text/x-python",
   "name": "python",
   "nbconvert_exporter": "python",
   "pygments_lexer": "ipython3",
   "version": "3.10.10"
  },
  "orig_nbformat": 4
 },
 "nbformat": 4,
 "nbformat_minor": 2
}
