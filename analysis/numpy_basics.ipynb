{
 "cells": [
  {
   "cell_type": "code",
   "execution_count": 1,
   "metadata": {},
   "outputs": [],
   "source": [
    "import numpy as np\n"
   ]
  },
  {
   "cell_type": "code",
   "execution_count": 2,
   "metadata": {},
   "outputs": [
    {
     "name": "stdout",
     "output_type": "stream",
     "text": [
      "[[1 2 3]\n",
      " [2 3 4]]\n",
      "(2, 3)\n"
     ]
    }
   ],
   "source": [
    "n2=np.array([[1,2,3],[2,3,4]])\n",
    "print(n2)\n",
    "print(n2.shape)"
   ]
  },
  {
   "cell_type": "code",
   "execution_count": 3,
   "metadata": {},
   "outputs": [
    {
     "name": "stdout",
     "output_type": "stream",
     "text": [
      "[[3 6]\n",
      " [2 5]\n",
      " [5 9]]\n",
      "[[1 2]\n",
      " [6 1]\n",
      " [3 7]]\n"
     ]
    }
   ],
   "source": [
    "x=np.random.randint(1,10,(3,2))\n",
    "y=np.random.randint(1,10,(3,2))\n",
    "print(x)\n",
    "print(y)"
   ]
  },
  {
   "cell_type": "code",
   "execution_count": 4,
   "metadata": {},
   "outputs": [
    {
     "data": {
      "text/plain": [
       "array([[ 4,  8],\n",
       "       [ 8,  6],\n",
       "       [ 8, 16]])"
      ]
     },
     "execution_count": 4,
     "metadata": {},
     "output_type": "execute_result"
    }
   ],
   "source": [
    "x+y"
   ]
  },
  {
   "cell_type": "code",
   "execution_count": 5,
   "metadata": {},
   "outputs": [
    {
     "data": {
      "text/plain": [
       "array([[ 0.14112001, -0.2794155 ],\n",
       "       [ 0.90929743, -0.95892427],\n",
       "       [-0.95892427,  0.41211849]])"
      ]
     },
     "execution_count": 5,
     "metadata": {},
     "output_type": "execute_result"
    }
   ],
   "source": [
    "np.sin(x)"
   ]
  },
  {
   "cell_type": "code",
   "execution_count": 6,
   "metadata": {},
   "outputs": [
    {
     "name": "stdout",
     "output_type": "stream",
     "text": [
      "30\n",
      "5.0\n",
      "2.23606797749979\n"
     ]
    }
   ],
   "source": [
    "print(x.sum())\n",
    "print(x.mean())\n",
    "print(x.std())"
   ]
  },
  {
   "cell_type": "code",
   "execution_count": 10,
   "metadata": {},
   "outputs": [
    {
     "name": "stdout",
     "output_type": "stream",
     "text": [
      "(50,)\n",
      "[[0.         0.10204082 0.20408163 0.30612245 0.40816327]\n",
      " [0.51020408 0.6122449  0.71428571 0.81632653 0.91836735]\n",
      " [1.02040816 1.12244898 1.2244898  1.32653061 1.42857143]\n",
      " [1.53061224 1.63265306 1.73469388 1.83673469 1.93877551]\n",
      " [2.04081633 2.14285714 2.24489796 2.34693878 2.44897959]\n",
      " [2.55102041 2.65306122 2.75510204 2.85714286 2.95918367]\n",
      " [3.06122449 3.16326531 3.26530612 3.36734694 3.46938776]\n",
      " [3.57142857 3.67346939 3.7755102  3.87755102 3.97959184]\n",
      " [4.08163265 4.18367347 4.28571429 4.3877551  4.48979592]\n",
      " [4.59183673 4.69387755 4.79591837 4.89795918 5.        ]]\n"
     ]
    }
   ],
   "source": [
    "a=np.linspace(0,5,50)\n",
    "print(a.shape)\n",
    "a2=a.reshape(10,5)\n",
    "print(a2)"
   ]
  },
  {
   "cell_type": "code",
   "execution_count": 13,
   "metadata": {},
   "outputs": [
    {
     "name": "stdout",
     "output_type": "stream",
     "text": [
      "[[3 7 4 7 1 5 2 4 6 1]\n",
      " [9 7 2 7 3 6 6 8 8 9]\n",
      " [7 2 1 5 9 4 4 9 3 6]\n",
      " [8 1 9 4 3 7 5 6 7 8]\n",
      " [3 4 3 8 8 1 2 3 2 7]\n",
      " [7 6 7 3 4 6 5 5 9 8]\n",
      " [4 1 9 5 7 1 6 3 9 5]\n",
      " [7 1 2 9 2 5 7 2 6 4]\n",
      " [8 1 3 7 1 4 7 7 8 3]\n",
      " [7 4 4 3 8 9 8 9 5 6]]\n"
     ]
    }
   ],
   "source": [
    "x=np.random.randint(1,10,(10,10))\n",
    "print(x)"
   ]
  },
  {
   "cell_type": "code",
   "execution_count": 16,
   "metadata": {},
   "outputs": [
    {
     "name": "stdout",
     "output_type": "stream",
     "text": [
      "3\n",
      "1\n"
     ]
    }
   ],
   "source": [
    "print(x[0,0])\n",
    "print(x[0,-1])"
   ]
  },
  {
   "cell_type": "code",
   "execution_count": 20,
   "metadata": {},
   "outputs": [
    {
     "name": "stdout",
     "output_type": "stream",
     "text": [
      "[3 7 4 7 1 5 2 4 6 1]\n",
      "[9 7 2 7 3 6 6 8 8 9]\n",
      "[7 4 4 3 8 9 8 9 5 6]\n",
      "[[3 7 4 7 1 5 2 4 6 1]\n",
      " [9 7 2 7 3 6 6 8 8 9]\n",
      " [7 2 1 5 9 4 4 9 3 6]]\n",
      "[[7 1 2 9 2 5 7 2 6 4]\n",
      " [8 1 3 7 1 4 7 7 8 3]\n",
      " [7 4 4 3 8 9 8 9 5 6]]\n"
     ]
    }
   ],
   "source": [
    "print(x[0])\n",
    "print(x[1])\n",
    "print(x[-1])\n",
    "print(x[:3])\n",
    "print(x[-3:])"
   ]
  },
  {
   "cell_type": "code",
   "execution_count": 25,
   "metadata": {},
   "outputs": [
    {
     "name": "stdout",
     "output_type": "stream",
     "text": [
      "[3 9 7 8 3 7 4 7 8 7]\n",
      "[1 9 6 8 7 8 5 4 3 6]\n",
      "[[3 7 4]\n",
      " [9 7 2]\n",
      " [7 2 1]\n",
      " [8 1 9]\n",
      " [3 4 3]\n",
      " [7 6 7]\n",
      " [4 1 9]\n",
      " [7 1 2]\n",
      " [8 1 3]\n",
      " [7 4 4]]\n",
      "[[4 6 1]\n",
      " [8 8 9]\n",
      " [9 3 6]\n",
      " [6 7 8]\n",
      " [3 2 7]\n",
      " [5 9 8]\n",
      " [3 9 5]\n",
      " [2 6 4]\n",
      " [7 8 3]\n",
      " [9 5 6]]\n"
     ]
    }
   ],
   "source": [
    "print(x[:,0])\n",
    "print(x[:,-1])\n",
    "print(x[:,:3])\n",
    "print(x[:,-3:])"
   ]
  },
  {
   "cell_type": "code",
   "execution_count": 26,
   "metadata": {},
   "outputs": [
    {
     "name": "stdout",
     "output_type": "stream",
     "text": [
      "[[3 4 7 2]\n",
      " [9 2 7 6]\n",
      " [7 1 5 4]\n",
      " [8 9 4 5]\n",
      " [3 3 8 2]\n",
      " [7 7 3 5]\n",
      " [4 9 5 6]\n",
      " [7 2 9 7]\n",
      " [8 3 7 7]\n",
      " [7 4 3 8]]\n"
     ]
    }
   ],
   "source": [
    "print(x[:,[0,2,3,6]])"
   ]
  },
  {
   "cell_type": "markdown",
   "metadata": {},
   "source": [
    "filtering"
   ]
  },
  {
   "cell_type": "code",
   "execution_count": 34,
   "metadata": {},
   "outputs": [
    {
     "data": {
      "text/plain": [
       "array([[ True, False,  True, False,  True, False,  True,  True, False,\n",
       "         True],\n",
       "       [False, False,  True, False,  True, False, False, False, False,\n",
       "        False],\n",
       "       [False,  True,  True, False, False,  True,  True, False,  True,\n",
       "        False],\n",
       "       [False,  True, False,  True,  True, False, False, False, False,\n",
       "        False],\n",
       "       [ True,  True,  True, False, False,  True,  True,  True,  True,\n",
       "        False],\n",
       "       [False, False, False,  True,  True, False, False, False, False,\n",
       "        False],\n",
       "       [ True,  True, False, False, False,  True, False,  True, False,\n",
       "        False],\n",
       "       [False,  True,  True, False,  True, False, False,  True, False,\n",
       "         True],\n",
       "       [False,  True,  True, False,  True,  True, False, False, False,\n",
       "         True],\n",
       "       [False,  True,  True,  True, False, False, False, False, False,\n",
       "        False]])"
      ]
     },
     "execution_count": 34,
     "metadata": {},
     "output_type": "execute_result"
    }
   ],
   "source": [
    "x<5"
   ]
  },
  {
   "cell_type": "code",
   "execution_count": 35,
   "metadata": {},
   "outputs": [
    {
     "data": {
      "text/plain": [
       "<function ndarray.sum>"
      ]
     },
     "execution_count": 35,
     "metadata": {},
     "output_type": "execute_result"
    }
   ],
   "source": [
    "x[x<5]"
   ]
  },
  {
   "cell_type": "code",
   "execution_count": 32,
   "metadata": {},
   "outputs": [
    {
     "data": {
      "text/plain": [
       "array([4, 5, 4, 6, 6, 6, 5, 4, 4, 6, 4, 5, 6, 4, 6, 4, 6, 5, 5, 4, 5, 6,\n",
       "       5, 5, 6, 4, 4, 4, 4, 5, 6])"
      ]
     },
     "execution_count": 32,
     "metadata": {},
     "output_type": "execute_result"
    }
   ],
   "source": [
    "x[(x>3) & (x<7)]"
   ]
  },
  {
   "cell_type": "code",
   "execution_count": null,
   "metadata": {},
   "outputs": [],
   "source": []
  }
 ],
 "metadata": {
  "kernelspec": {
   "display_name": "base",
   "language": "python",
   "name": "python3"
  },
  "language_info": {
   "codemirror_mode": {
    "name": "ipython",
    "version": 3
   },
   "file_extension": ".py",
   "mimetype": "text/x-python",
   "name": "python",
   "nbconvert_exporter": "python",
   "pygments_lexer": "ipython3",
   "version": "3.10.10"
  },
  "orig_nbformat": 4
 },
 "nbformat": 4,
 "nbformat_minor": 2
}
