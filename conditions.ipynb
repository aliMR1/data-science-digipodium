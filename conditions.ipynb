{
 "cells": [
  {
   "cell_type": "markdown",
   "metadata": {},
   "source": [
    "conditions\n",
    "- if \n",
    "- if else\n",
    "- if elif else\n",
    "- match case"
   ]
  },
  {
   "cell_type": "code",
   "execution_count": 1,
   "metadata": {},
   "outputs": [],
   "source": [
    "x = 10\n",
    "y = 3"
   ]
  },
  {
   "cell_type": "code",
   "execution_count": 8,
   "metadata": {},
   "outputs": [
    {
     "name": "stdout",
     "output_type": "stream",
     "text": [
      "x is greater than y\n",
      "that is true\n",
      "this is always printed\n"
     ]
    }
   ],
   "source": [
    "if x>y:\n",
    "    print (\"x is greater than y\")\n",
    "    print(\"that is true\")\n",
    "print(\"this is always printed\")    "
   ]
  },
  {
   "cell_type": "code",
   "execution_count": 9,
   "metadata": {},
   "outputs": [
    {
     "name": "stdout",
     "output_type": "stream",
     "text": [
      "x is greater than y and x is greater than 8\n"
     ]
    }
   ],
   "source": [
    "if x>y and x>8:\n",
    "    print('x is greater than y and x is greater than 8')"
   ]
  },
  {
   "cell_type": "markdown",
   "metadata": {},
   "source": [
    "true values\n",
    "- true\n",
    "- non zero numbers\n",
    "- non empty strings\n",
    "\n",
    "false values\n",
    "\n",
    "- false\n",
    "- 0\n",
    "- 0.0\n",
    "- none\n",
    "- empty strings"
   ]
  },
  {
   "cell_type": "code",
   "execution_count": 12,
   "metadata": {},
   "outputs": [
    {
     "name": "stdout",
     "output_type": "stream",
     "text": [
      "you entered ali\n"
     ]
    }
   ],
   "source": [
    "name=input('enter a name')\n",
    "if name:\n",
    "    print(f'you entered {name}')\n",
    "else:\n",
    "    print('you did not enter a name')"
   ]
  },
  {
   "cell_type": "code",
   "execution_count": 15,
   "metadata": {},
   "outputs": [
    {
     "name": "stdout",
     "output_type": "stream",
     "text": [
      "odd\n"
     ]
    }
   ],
   "source": [
    "number=int (input('enter a number'))\n",
    "if  number % 2 == 0:\n",
    "    print('even')\n",
    "else:\n",
    "    print ('odd')\n",
    "\n",
    "\n",
    "    "
   ]
  },
  {
   "cell_type": "code",
   "execution_count": 20,
   "metadata": {},
   "outputs": [
    {
     "name": "stdout",
     "output_type": "stream",
     "text": [
      "invalid password\n"
     ]
    }
   ],
   "source": [
    "username=input('enter username')\n",
    "password=input('enter password')\n",
    "if username=='admin':\n",
    "    if password=='admin123':\n",
    "        print ('welcome admin')\n",
    "    else:\n",
    "        print('invalid password')\n",
    "else:\n",
    "    print('invalid username')\n",
    "\n"
   ]
  },
  {
   "cell_type": "code",
   "execution_count": 22,
   "metadata": {},
   "outputs": [
    {
     "name": "stdout",
     "output_type": "stream",
     "text": [
      "monday\n"
     ]
    }
   ],
   "source": [
    "day=input ('enter day')\n",
    "if day=='monday':\n",
    "    print('monday')\n",
    "elif day== 'tuesday':\n",
    "    print('tuesday')\n",
    "elif day=='wednesday':\n",
    "    print('wednesday')\n",
    "else:\n",
    "    print('holiday')"
   ]
  },
  {
   "cell_type": "code",
   "execution_count": 23,
   "metadata": {},
   "outputs": [
    {
     "name": "stdout",
     "output_type": "stream",
     "text": [
      "time to work again\n"
     ]
    }
   ],
   "source": [
    "day=input('enter day')\n",
    "match day:\n",
    "    case 'monday':\n",
    "        print('time to work')\n",
    "    case 'tuesday'|'wednesday':\n",
    "        print('time to work again')\n",
    "    case 'thursday':\n",
    "        print('almost there')\n",
    "    case 'friday':\n",
    "        print('weekend,almost there')\n",
    "    case 'saturday'|'sunday':\n",
    "        print('weekend')"
   ]
  },
  {
   "cell_type": "code",
   "execution_count": 24,
   "metadata": {},
   "outputs": [
    {
     "name": "stdout",
     "output_type": "stream",
     "text": [
      "capricorn\n"
     ]
    }
   ],
   "source": [
    "month=input('enter month')\n",
    "match month:\n",
    "    case 'january':\n",
    "        print('aquarius')\n",
    "    case 'february':\n",
    "        print('pisces')\n",
    "    case 'march':\n",
    "        print('gemini')\n",
    "    case 'april':\n",
    "        print('aries')\n",
    "    case 'may':\n",
    "        print('taurus')\n",
    "    case 'june':\n",
    "        print('saggitarius')\n",
    "    case 'july':\n",
    "        print('scorpio')\n",
    "    case 'august':\n",
    "        print('cancer')\n",
    "    case 'september':\n",
    "        print('leo')\n",
    "    case 'october':\n",
    "        print('libra')\n",
    "    case 'november':\n",
    "        print('virgo')\n",
    "    case 'december':\n",
    "        print('capricorn')\n",
    "    case _:\n",
    "        print('invalid')\n"
   ]
  },
  {
   "cell_type": "code",
   "execution_count": null,
   "metadata": {},
   "outputs": [],
   "source": []
  }
 ],
 "metadata": {
  "kernelspec": {
   "display_name": "base",
   "language": "python",
   "name": "python3"
  },
  "language_info": {
   "codemirror_mode": {
    "name": "ipython",
    "version": 3
   },
   "file_extension": ".py",
   "mimetype": "text/x-python",
   "name": "python",
   "nbconvert_exporter": "python",
   "pygments_lexer": "ipython3",
   "version": "3.10.10"
  },
  "orig_nbformat": 4
 },
 "nbformat": 4,
 "nbformat_minor": 2
}
