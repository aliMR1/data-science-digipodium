{
 "cells": [
  {
   "cell_type": "markdown",
   "metadata": {},
   "source": [
    "- creation\n",
    "- indexing and slicing\n",
    "- methods"
   ]
  },
  {
   "cell_type": "code",
   "execution_count": 2,
   "metadata": {},
   "outputs": [
    {
     "name": "stdout",
     "output_type": "stream",
     "text": [
      "hahahahahahahahahaha\n",
      "100 <class 'str'>\n"
     ]
    }
   ],
   "source": [
    "s = 'hello'\n",
    "s1 = \"world\"\n",
    "msg = '''this is a message\n",
    "with multiple lines'''\n",
    "w = 'ha'*10\n",
    "print(w)\n",
    "a= 100\n",
    "b=str(a)\n",
    "print(b,type(b))\n"
   ]
  },
  {
   "cell_type": "code",
   "execution_count": 3,
   "metadata": {},
   "outputs": [
    {
     "name": "stdout",
     "output_type": "stream",
     "text": [
      "from turtle import *\n",
      "speed('fastest')\n",
      "pensize(3)\n",
      "bgcolor('black')\n",
      "pencolor('white')\n",
      "side = 6\n",
      "for i in range(side):\n",
      "    fd(200)\n",
      "    for i in range(side):\n",
      "        fd(100)\n",
      "        lt(360/side)\n",
      "        for i in range (side):\n",
      "            fd(50)\n",
      "            lt(360/side)\n",
      "    lt(360/side)\n",
      "    \n",
      "mainloop()\n"
     ]
    }
   ],
   "source": [
    "data = open('t4.py').read()\n",
    "print(data)"
   ]
  },
  {
   "cell_type": "code",
   "execution_count": 4,
   "metadata": {},
   "outputs": [
    {
     "name": "stdout",
     "output_type": "stream",
     "text": [
      "h\n",
      "e\n",
      "l\n",
      "l\n",
      "o\n"
     ]
    }
   ],
   "source": [
    "print (s[0]) #first char\n",
    "print(s[1])\n",
    "print(s[2])\n",
    "print(s[3])\n",
    "print(s[-1]) #last char"
   ]
  },
  {
   "cell_type": "code",
   "execution_count": 14,
   "metadata": {},
   "outputs": [],
   "source": [
    "name = 'William Shakespeare'"
   ]
  },
  {
   "cell_type": "code",
   "execution_count": 28,
   "metadata": {},
   "outputs": [
    {
     "name": "stdout",
     "output_type": "stream",
     "text": [
      "pear\n",
      "Will\n",
      "Shakespeare\n",
      "William Shakespeare\n",
      "WlimSaepae\n",
      "eraepsekahS mailliW\n",
      "Wlmheee\n"
     ]
    }
   ],
   "source": [
    "a = name[14:-1]\n",
    "print(a)\n",
    "b = name[:4]\n",
    "print (b)\n",
    "c = name[8:]\n",
    "print (c)\n",
    "d = name[:]\n",
    "print(d)\n",
    "e = name[::2]#step\n",
    "print (e)\n",
    "f = name[::-1]#reverse\n",
    "print (f)\n",
    "g = name[::3]\n",
    "print (g)"
   ]
  },
  {
   "cell_type": "code",
   "execution_count": 29,
   "metadata": {},
   "outputs": [
    {
     "data": {
      "text/plain": [
       "19"
      ]
     },
     "execution_count": 29,
     "metadata": {},
     "output_type": "execute_result"
    }
   ],
   "source": [
    "len(name)"
   ]
  },
  {
   "cell_type": "markdown",
   "metadata": {},
   "source": [
    "- methods\n",
    "- utility\n",
    "  - count\n",
    "  - find\n",
    "  - replace\n",
    "  - split\n",
    "  - join\n",
    "  - strip\n",
    "- formatting method\n",
    "  - capitalize\n",
    "  - title\n",
    "  - upper\n",
    "  - lower\n",
    "  - swapcase\n",
    "  - casefold\n",
    "- validation method\n",
    "  - isalnum\n",
    "  - isalpha\n",
    "  - isdigit\n",
    "  - islower\n",
    "  - isupper \n",
    "  - istitle\n",
    "  - isspace "
   ]
  },
  {
   "cell_type": "code",
   "execution_count": 39,
   "metadata": {},
   "outputs": [],
   "source": [
    "msg = '''this is a story about a kingdom of \n",
    "south india lead by the hoyasala dynasty kings.'''"
   ]
  },
  {
   "cell_type": "code",
   "execution_count": 40,
   "metadata": {},
   "outputs": [
    {
     "name": "stdout",
     "output_type": "stream",
     "text": [
      "9\n",
      "2\n",
      "1\n",
      "1\n"
     ]
    }
   ],
   "source": [
    "print(msg.count('a'))\n",
    "print(msg.count('out'))\n",
    "print(msg.count('the'))\n",
    "print(msg.count('.'))\n"
   ]
  },
  {
   "cell_type": "code",
   "execution_count": 41,
   "metadata": {},
   "outputs": [
    {
     "name": "stdout",
     "output_type": "stream",
     "text": [
      "25\n"
     ]
    }
   ],
   "source": [
    "tvs=0\n",
    "for c in 'aeiou':\n",
    "    tvs+= msg.count(c)\n",
    "print(tvs)"
   ]
  },
  {
   "cell_type": "code",
   "execution_count": 42,
   "metadata": {},
   "outputs": [
    {
     "data": {
      "text/plain": [
       "'this is a story about a kingdom of \\nsouth india lead by the hoyasala dynasty kings.'"
      ]
     },
     "execution_count": 42,
     "metadata": {},
     "output_type": "execute_result"
    }
   ],
   "source": [
    "msg"
   ]
  },
  {
   "cell_type": "code",
   "execution_count": 43,
   "metadata": {},
   "outputs": [
    {
     "data": {
      "text/plain": [
       "10"
      ]
     },
     "execution_count": 43,
     "metadata": {},
     "output_type": "execute_result"
    }
   ],
   "source": [
    "msg.find('story')"
   ]
  },
  {
   "cell_type": "code",
   "execution_count": 52,
   "metadata": {},
   "outputs": [
    {
     "data": {
      "text/plain": [
       "37"
      ]
     },
     "execution_count": 52,
     "metadata": {},
     "output_type": "execute_result"
    }
   ],
   "source": [
    "msg.rfind ('out')"
   ]
  },
  {
   "cell_type": "code",
   "execution_count": 49,
   "metadata": {},
   "outputs": [
    {
     "data": {
      "text/plain": [
       "'this is b story bbout b kingdom of \\nsouth indib lebd by the hoybsblb dynbsty kings.'"
      ]
     },
     "execution_count": 49,
     "metadata": {},
     "output_type": "execute_result"
    }
   ],
   "source": [
    "msg.replace('a','b')"
   ]
  },
  {
   "cell_type": "code",
   "execution_count": 53,
   "metadata": {},
   "outputs": [
    {
     "data": {
      "text/plain": [
       "'this is a story about a kingdom of \\nsouth india lead by the hoyasala dynasty kings.'"
      ]
     },
     "execution_count": 53,
     "metadata": {},
     "output_type": "execute_result"
    }
   ],
   "source": [
    "msg"
   ]
  },
  {
   "cell_type": "code",
   "execution_count": 54,
   "metadata": {},
   "outputs": [
    {
     "data": {
      "text/plain": [
       "'this is  story bout  kingdom of \\nsouth indi led by the hoysl dynsty kings.'"
      ]
     },
     "execution_count": 54,
     "metadata": {},
     "output_type": "execute_result"
    }
   ],
   "source": [
    "msg.replace('a','')"
   ]
  },
  {
   "cell_type": "code",
   "execution_count": 58,
   "metadata": {},
   "outputs": [
    {
     "data": {
      "text/plain": [
       "'this is a story about a kingdom of \\nsouth india lead by the hoyasala dynasty kings.'"
      ]
     },
     "execution_count": 58,
     "metadata": {},
     "output_type": "execute_result"
    }
   ],
   "source": [
    "\n",
    "msg"
   ]
  },
  {
   "cell_type": "code",
   "execution_count": 62,
   "metadata": {},
   "outputs": [
    {
     "name": "stdout",
     "output_type": "stream",
     "text": [
      "ths s  stry bt  kngdm f \n",
      "sth nd ld by th hysl dynsty kngs.\n"
     ]
    }
   ],
   "source": [
    "msg_copy = msg\n",
    "for c in 'aeiou':\n",
    "    msg_copy=msg_copy.replace(c,'')\n",
    "print(msg_copy)\n"
   ]
  },
  {
   "cell_type": "code",
   "execution_count": 1,
   "metadata": {},
   "outputs": [
    {
     "data": {
      "text/plain": [
       "['this', 'is', 'a', 'message']"
      ]
     },
     "execution_count": 1,
     "metadata": {},
     "output_type": "execute_result"
    }
   ],
   "source": [
    "data = 'this is a message'\n",
    "data.split()"
   ]
  },
  {
   "cell_type": "code",
   "execution_count": 2,
   "metadata": {},
   "outputs": [
    {
     "data": {
      "text/plain": [
       "['life before death',\n",
       " ' \\nstrength before weakness',\n",
       " '\\njourney before destination']"
      ]
     },
     "execution_count": 2,
     "metadata": {},
     "output_type": "execute_result"
    }
   ],
   "source": [
    "quote = '''life before death, \n",
    "strength before weakness,\n",
    "journey before destination'''\n",
    "quote.split(',')"
   ]
  },
  {
   "cell_type": "code",
   "execution_count": 3,
   "metadata": {},
   "outputs": [
    {
     "data": {
      "text/plain": [
       "['life before death, ',\n",
       " 'strength before weakness,',\n",
       " 'journey before destination']"
      ]
     },
     "execution_count": 3,
     "metadata": {},
     "output_type": "execute_result"
    }
   ],
   "source": [
    "quote.splitlines()"
   ]
  },
  {
   "cell_type": "code",
   "execution_count": 5,
   "metadata": {},
   "outputs": [
    {
     "data": {
      "text/plain": [
       "'hi-there-how-are-you'"
      ]
     },
     "execution_count": 5,
     "metadata": {},
     "output_type": "execute_result"
    }
   ],
   "source": [
    "msg=['hi','there','how','are','you']\n",
    "'-'.join(msg)"
   ]
  },
  {
   "cell_type": "code",
   "execution_count": 7,
   "metadata": {},
   "outputs": [
    {
     "name": "stdout",
     "output_type": "stream",
     "text": [
      "john\n"
     ]
    }
   ],
   "source": [
    "x=' john '\n",
    "print(x.strip())"
   ]
  },
  {
   "cell_type": "code",
   "execution_count": 13,
   "metadata": {},
   "outputs": [
    {
     "name": "stdout",
     "output_type": "stream",
     "text": [
      "Help on built-in function eval in module builtins:\n",
      "\n",
      "eval(source, globals=None, locals=None, /)\n",
      "    Evaluate the given source in the context of globals and locals.\n",
      "    \n",
      "    The source may be a string representing a Python expression\n",
      "    or a code object as returned by compile().\n",
      "    The globals must be a dictionary and locals can be any mapping,\n",
      "    defaulting to the current globals and locals.\n",
      "    If only globals is given, locals defaults to it.\n",
      "\n"
     ]
    }
   ],
   "source": [
    "help(eval)"
   ]
  },
  {
   "cell_type": "code",
   "execution_count": 17,
   "metadata": {},
   "outputs": [
    {
     "name": "stdout",
     "output_type": "stream",
     "text": [
      "ALI ASIF\n",
      "Ali asif\n",
      "Ali Asif\n",
      "aLI ASIF\n",
      "ali asif\n"
     ]
    }
   ],
   "source": [
    "name='Ali asif'\n",
    "print(name.upper())\n",
    "print(name.capitalize())\n",
    "print(name.title())\n",
    "print(name.swapcase())\n",
    "print(name.casefold())"
   ]
  },
  {
   "cell_type": "code",
   "execution_count": 21,
   "metadata": {},
   "outputs": [
    {
     "name": "stdout",
     "output_type": "stream",
     "text": [
      "True\n",
      "False\n",
      "False\n"
     ]
    }
   ],
   "source": [
    "x='john cena'\n",
    "print(x.islower())\n",
    "print(x.isupper())\n",
    "print(x.isnumeric())"
   ]
  },
  {
   "cell_type": "markdown",
   "metadata": {},
   "source": [
    "# wap to take a string from user then print only the words that are even indexed"
   ]
  },
  {
   "cell_type": "code",
   "execution_count": 28,
   "metadata": {},
   "outputs": [
    {
     "data": {
      "text/plain": [
       "'hello gug kih'"
      ]
     },
     "execution_count": 28,
     "metadata": {},
     "output_type": "execute_result"
    }
   ],
   "source": [
    "\" \".join(input('enter a string').split()[::2])\n",
    "\n"
   ]
  },
  {
   "cell_type": "markdown",
   "metadata": {},
   "source": [
    "wap to take string from user and display size of each word and also display the word with max size"
   ]
  },
  {
   "cell_type": "code",
   "execution_count": 40,
   "metadata": {},
   "outputs": [
    {
     "name": "stdout",
     "output_type": "stream",
     "text": [
      "2\n",
      "2\n",
      "4\n",
      "2\n",
      "3\n",
      "name            4\n"
     ]
    }
   ],
   "source": [
    "x=input('enter a string')\n",
    "a=x.split()\n",
    "for c in a:\n",
    "    print(len(c))\n",
    "wc=0\n",
    "for w in a:\n",
    "    if(len(w))>wc:\n",
    "        wc=len(w)\n",
    "        a=w\n",
    "print(f'{a:15} {len(a)}')\n",
    "\n"
   ]
  },
  {
   "cell_type": "code",
   "execution_count": null,
   "metadata": {},
   "outputs": [],
   "source": []
  }
 ],
 "metadata": {
  "kernelspec": {
   "display_name": "base",
   "language": "python",
   "name": "python3"
  },
  "language_info": {
   "codemirror_mode": {
    "name": "ipython",
    "version": 3
   },
   "file_extension": ".py",
   "mimetype": "text/x-python",
   "name": "python",
   "nbconvert_exporter": "python",
   "pygments_lexer": "ipython3",
   "version": "3.10.10"
  },
  "orig_nbformat": 4
 },
 "nbformat": 4,
 "nbformat_minor": 2
}
