{
 "cells": [
  {
   "cell_type": "markdown",
   "metadata": {},
   "source": [
    "#### list\n",
    "- indexed, ordered, mutable, allows duplicate elements, heterogenous, '[]', 'list()'\n",
    "#### tuple\n",
    "- indexed, ordered, **immutable**, allows duplicate elements, heterogenous, '()', 'tuple()'\n",
    "#### set\n",
    "- **unordered**, mutable,  **does not allow duplicate elements**, heterogenous, '{}', 'set()'\n",
    "#### dictionary\n",
    "-**unordered**, mutable,  **does not allow duplicate elements**, heterogenous, key:value pairs, '{}', 'set()'"
   ]
  },
  {
   "cell_type": "markdown",
   "metadata": {},
   "source": [
    "# list\n",
    "- creating\n",
    "- indexing\n",
    "- slicing\n",
    "- methods(11 methods)\n",
    "- lists comprehension"
   ]
  },
  {
   "cell_type": "code",
   "execution_count": 9,
   "metadata": {},
   "outputs": [],
   "source": [
    "x = [1,2,3,4,5]\n",
    "names=['ali','saud','zaid']\n",
    "mix=[12,23,3.76,'namesay',True]\n",
    "nested=[[2,3,4],[36,48,33],[36466,3,34]]\n",
    "cloned=[1,2,3]*5\n",
    "words='this is sparta'.split()\n",
    "chars=list('spartans')"
   ]
  },
  {
   "cell_type": "code",
   "execution_count": 11,
   "metadata": {},
   "outputs": [
    {
     "name": "stdout",
     "output_type": "stream",
     "text": [
      "100\n",
      "5\n"
     ]
    }
   ],
   "source": [
    "print(x[0])\n",
    "print(x[-1])\n",
    "x[0]=100"
   ]
  },
  {
   "cell_type": "code",
   "execution_count": 20,
   "metadata": {},
   "outputs": [
    {
     "data": {
      "text/plain": [
       "['s', 'n', 'a', 't', 'r', 'a', 'p', 's']"
      ]
     },
     "execution_count": 20,
     "metadata": {},
     "output_type": "execute_result"
    }
   ],
   "source": [
    "chars[::-1]"
   ]
  },
  {
   "cell_type": "markdown",
   "metadata": {},
   "source": [
    "- adding\n",
    "      - append() \n",
    "      - extend() \n",
    "      - insert()\n",
    "- removing\n",
    "      - remove()\n",
    "      - pop()\n",
    "      - clear()\n",
    "- utility methods\n",
    "      - count()\n",
    "      - index()\n",
    "      - sort()\n",
    "      - reverse()\n",
    "      - copy()"
   ]
  },
  {
   "cell_type": "code",
   "execution_count": 22,
   "metadata": {},
   "outputs": [
    {
     "name": "stdout",
     "output_type": "stream",
     "text": [
      "[100, 2, 3, 4, 5, 6, 3, 6, 3]\n"
     ]
    }
   ],
   "source": [
    "x.append(6)\n",
    "x.append(3)\n",
    "print(x)"
   ]
  },
  {
   "cell_type": "code",
   "execution_count": 24,
   "metadata": {},
   "outputs": [
    {
     "name": "stdout",
     "output_type": "stream",
     "text": [
      "[100, 2, 3, 4, 5, 6, 3, 6, 3, 11, 12, 13, 11, 12, 13]\n"
     ]
    }
   ],
   "source": [
    "a=[11,12,13]\n",
    "x.extend(a)\n",
    "print(x)"
   ]
  },
  {
   "cell_type": "code",
   "execution_count": 26,
   "metadata": {},
   "outputs": [
    {
     "name": "stdout",
     "output_type": "stream",
     "text": [
      "[100, 2, 3, 4, 5, 200, 6, 3, 6, 3, 11, 12, 13, 11, 12, 13]\n"
     ]
    }
   ],
   "source": [
    "x.insert(5,200)\n",
    "print (x)"
   ]
  },
  {
   "cell_type": "markdown",
   "metadata": {},
   "source": [
    "write a program to take 10 inputs from user and make a list\n"
   ]
  },
  {
   "cell_type": "code",
   "execution_count": 46,
   "metadata": {},
   "outputs": [
    {
     "name": "stdout",
     "output_type": "stream",
     "text": [
      "['one', 'two', 'three', 'four', 'five', 'six', 'seven', 'eight', 'nine', 'ten']\n"
     ]
    }
   ],
   "source": [
    "abc=[]\n",
    "for i in range(10):\n",
    "    s=(input('enter smth'))\n",
    "    abc.append(s)\n",
    "print(abc)"
   ]
  },
  {
   "cell_type": "code",
   "execution_count": 45,
   "metadata": {},
   "outputs": [
    {
     "name": "stdout",
     "output_type": "stream",
     "text": [
      "not found\n"
     ]
    }
   ],
   "source": [
    "abc.remove('nine')if 'nine' in abc else print('not found')"
   ]
  },
  {
   "cell_type": "code",
   "execution_count": 37,
   "metadata": {},
   "outputs": [
    {
     "name": "stdout",
     "output_type": "stream",
     "text": [
      "5\n"
     ]
    }
   ],
   "source": [
    "x=[1,2,3,4,5]\n",
    "print(x.pop())"
   ]
  },
  {
   "cell_type": "code",
   "execution_count": 39,
   "metadata": {},
   "outputs": [
    {
     "data": {
      "text/plain": [
       "6"
      ]
     },
     "execution_count": 39,
     "metadata": {},
     "output_type": "execute_result"
    }
   ],
   "source": [
    "a=[1,2,3,1,1,2,2,2,2,2,1,1,1]\n",
    "a.count(1)"
   ]
  },
  {
   "cell_type": "code",
   "execution_count": 42,
   "metadata": {},
   "outputs": [
    {
     "name": "stdout",
     "output_type": "stream",
     "text": [
      "['ali', 'saud', 'zaid']\n"
     ]
    }
   ],
   "source": [
    "names.sort()\n",
    "print(names)"
   ]
  },
  {
   "cell_type": "code",
   "execution_count": 47,
   "metadata": {},
   "outputs": [
    {
     "name": "stdout",
     "output_type": "stream",
     "text": [
      "['ten', 'nine', 'eight', 'seven', 'six', 'five', 'four', 'three', 'two', 'one']\n"
     ]
    }
   ],
   "source": [
    "abc.reverse()\n",
    "print(abc)"
   ]
  },
  {
   "cell_type": "code",
   "execution_count": 50,
   "metadata": {},
   "outputs": [
    {
     "name": "stdout",
     "output_type": "stream",
     "text": [
      "9\n"
     ]
    }
   ],
   "source": [
    "a=abc.index(\"one\")\n",
    "print(a)"
   ]
  },
  {
   "cell_type": "markdown",
   "metadata": {},
   "source": [
    "write a program to make a fibonacci series of 10 numbers and store in list"
   ]
  },
  {
   "cell_type": "code",
   "execution_count": 56,
   "metadata": {},
   "outputs": [
    {
     "name": "stdout",
     "output_type": "stream",
     "text": [
      "[0, 1, 1, 2, 3, 5, 8, 13, 21, 34]\n"
     ]
    }
   ],
   "source": [
    "a=0\n",
    "b=1\n",
    "list=[]\n",
    "list.append(a)\n",
    "list.append(b)\n",
    "f=0\n",
    "for i in range(1,9):\n",
    "    f=a+b\n",
    "    a=b\n",
    "    b=f\n",
    "    list.append(f)\n",
    "print(list)\n"
   ]
  },
  {
   "cell_type": "code",
   "execution_count": 58,
   "metadata": {},
   "outputs": [
    {
     "name": "stdout",
     "output_type": "stream",
     "text": [
      "[0, 1, 1, 2, 3, 5, 8, 13, 21, 34]\n"
     ]
    }
   ],
   "source": [
    "x=[0,1] #fibo\n",
    "for i in range(8):\n",
    "    x.append(x[-2]+x[-1])\n",
    "print(x)"
   ]
  },
  {
   "cell_type": "code",
   "execution_count": 1,
   "metadata": {},
   "outputs": [
    {
     "name": "stdout",
     "output_type": "stream",
     "text": [
      "[1, 4, 9, 16, 25]\n"
     ]
    }
   ],
   "source": [
    "x=[1,2,3,4,5]\n",
    "x2=[]\n",
    "for i in x:\n",
    "    s=i**2\n",
    "    x2.append(s)\n",
    "print(x2)"
   ]
  },
  {
   "cell_type": "code",
   "execution_count": 23,
   "metadata": {},
   "outputs": [
    {
     "name": "stdout",
     "output_type": "stream",
     "text": [
      "['bushra', 'saud', 'sadaf', 'ali']\n"
     ]
    }
   ],
   "source": [
    "n=[\"bushra khan\",\"  saud md \",\" sadaf ali\",\" ali akhtar\"]\n",
    "fn=[]\n",
    "for i in n:\n",
    "    fn.append(i.split()[-2])\n",
    "print(fn)"
   ]
  },
  {
   "cell_type": "code",
   "execution_count": 2,
   "metadata": {},
   "outputs": [
    {
     "name": "stdout",
     "output_type": "stream",
     "text": [
      "[2, 4, 6, 8, 10]\n"
     ]
    }
   ],
   "source": [
    "a=[1,2,3,4,5,6,7,8,9,10]\n",
    "b=[]\n",
    "for i in a:\n",
    "    if i%2==0:\n",
    "        b.append(i)\n",
    "print(b)"
   ]
  },
  {
   "cell_type": "code",
   "execution_count": 3,
   "metadata": {},
   "outputs": [
    {
     "name": "stdout",
     "output_type": "stream",
     "text": [
      "[2, 4, 6, 8, 10]\n"
     ]
    }
   ],
   "source": [
    "b=[i for i in a if i%2==0]\n",
    "print(b)"
   ]
  },
  {
   "cell_type": "code",
   "execution_count": 1,
   "metadata": {},
   "outputs": [
    {
     "name": "stdout",
     "output_type": "stream",
     "text": [
      "[1, 2, 3, 4, 5]\n"
     ]
    }
   ],
   "source": [
    "x=['1','2','3','4','5']\n",
    "x_clean=[int(i)for i in x if i.isnumeric()]\n",
    "print(x_clean)"
   ]
  },
  {
   "cell_type": "code",
   "execution_count": 2,
   "metadata": {},
   "outputs": [
    {
     "name": "stdout",
     "output_type": "stream",
     "text": [
      "['1.jpg', '2.jpg', '5.jpg']\n",
      "['3.png']\n"
     ]
    }
   ],
   "source": [
    "files=['1.jpg','3.png','2.jpg','4.tif','5.jpg']\n",
    "j=[file for file in files if file.endswith('.jpg')]\n",
    "p=[file for file in files if file.endswith('.png')]\n",
    "print(j)\n",
    "print(p)"
   ]
  },
  {
   "cell_type": "code",
   "execution_count": 3,
   "metadata": {},
   "outputs": [
    {
     "name": "stdout",
     "output_type": "stream",
     "text": [
      "[1, 27, 125, 1, 27, 125, 1, 27, 27, 125, 125, 343, 27, 27, 343, 27, 1, 27, 125]\n"
     ]
    }
   ],
   "source": [
    "y=[1,2,3,4,5,1,2,3,5,6,1,2,2,3,3,5,5,6,7,3,3,6,6,7,3,2,1,3,5]\n",
    "loop=[i*i*i for i in y if i%2!=0]\n",
    "print(loop)"
   ]
  },
  {
   "cell_type": "code",
   "execution_count": null,
   "metadata": {},
   "outputs": [],
   "source": []
  }
 ],
 "metadata": {
  "kernelspec": {
   "display_name": "base",
   "language": "python",
   "name": "python3"
  },
  "language_info": {
   "codemirror_mode": {
    "name": "ipython",
    "version": 3
   },
   "file_extension": ".py",
   "mimetype": "text/x-python",
   "name": "python",
   "nbconvert_exporter": "python",
   "pygments_lexer": "ipython3",
   "version": "3.10.10"
  },
  "orig_nbformat": 4
 },
 "nbformat": 4,
 "nbformat_minor": 2
}
