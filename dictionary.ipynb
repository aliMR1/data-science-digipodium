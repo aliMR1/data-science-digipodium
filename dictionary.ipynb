{
 "cells": [
  {
   "cell_type": "code",
   "execution_count": 3,
   "metadata": {},
   "outputs": [
    {
     "name": "stdout",
     "output_type": "stream",
     "text": [
      "{'eng': 90, 'mat': 88, 'comp': 99}\n"
     ]
    }
   ],
   "source": [
    "raju={'eng':90,'mat': 88,'comp':99}\n",
    "print(raju)"
   ]
  },
  {
   "cell_type": "code",
   "execution_count": 5,
   "metadata": {},
   "outputs": [],
   "source": [
    "company={\n",
    "    'employee': {\n",
    "        'name': \"ali\",\n",
    "        'designation': 'manager',\n",
    "        'salary': 250000,\n",
    "    },\n",
    "    'employee2':{\n",
    "        'name': 'saud',\n",
    "        'designation': 'chaprasi',\n",
    "        'salary': '100'\n",
    "\n",
    "    } ,\n",
    "    'total_emp':2,\n",
    "    'dep': 'accounts',\n",
    "    'vacancy':['clerk','assitants']\n",
    "}"
   ]
  },
  {
   "cell_type": "code",
   "execution_count": 7,
   "metadata": {},
   "outputs": [
    {
     "name": "stdout",
     "output_type": "stream",
     "text": [
      "{'employee': {'name': 'ali', 'designation': 'manager', 'salary': 250000}, 'employee2': {'name': 'saud', 'designation': 'chaprasi', 'salary': '100'}, 'total_emp': 2, 'dep': 'accounts', 'vacancy': ['clerk', 'assitants'], 'name': 'bit'}\n"
     ]
    }
   ],
   "source": [
    "company['name']= 'bit'\n",
    "print(company)"
   ]
  },
  {
   "cell_type": "code",
   "execution_count": 8,
   "metadata": {},
   "outputs": [
    {
     "name": "stdout",
     "output_type": "stream",
     "text": [
      "{'employee': {'name': 'ali', 'designation': 'manager', 'salary': 250000}, 'employee2': {'name': 'saud', 'designation': 'chaprasi', 'salary': '100'}, 'total_emp': 3, 'dep': 'accounts', 'vacancy': ['clerk', 'assitants'], 'name': 'bit'}\n"
     ]
    }
   ],
   "source": [
    "company['total_emp']=3\n",
    "print(company)"
   ]
  },
  {
   "cell_type": "code",
   "execution_count": 9,
   "metadata": {},
   "outputs": [
    {
     "data": {
      "text/plain": [
       "{'employee': {'name': 'ali', 'designation': 'manager', 'salary': 250000},\n",
       " 'employee2': {'name': 'saud', 'designation': 'chaprasi', 'salary': '100'},\n",
       " 'total_emp': 3,\n",
       " 'dep': 'accounts',\n",
       " 'vacancy': ['clerk', 'assitants'],\n",
       " 'name': 'bit'}"
      ]
     },
     "execution_count": 9,
     "metadata": {},
     "output_type": "execute_result"
    }
   ],
   "source": [
    "company"
   ]
  },
  {
   "cell_type": "code",
   "execution_count": 10,
   "metadata": {},
   "outputs": [
    {
     "data": {
      "text/plain": [
       "{'name': 'ali', 'designation': 'manager', 'salary': 250000}"
      ]
     },
     "execution_count": 10,
     "metadata": {},
     "output_type": "execute_result"
    }
   ],
   "source": [
    "company['employee']"
   ]
  },
  {
   "cell_type": "code",
   "execution_count": 11,
   "metadata": {},
   "outputs": [
    {
     "name": "stdout",
     "output_type": "stream",
     "text": [
      "name exists in dict\n"
     ]
    }
   ],
   "source": [
    "if 'name' in company:\n",
    "    print('name exists in dict')"
   ]
  },
  {
   "cell_type": "code",
   "execution_count": 14,
   "metadata": {},
   "outputs": [
    {
     "name": "stdout",
     "output_type": "stream",
     "text": [
      "{'name': 'ali', 'designation': 'manager', 'salary': 250000}\n",
      "{'name': 'saud', 'designation': 'chaprasi', 'salary': '100'}\n",
      "3\n",
      "accounts\n",
      "['clerk', 'assitants']\n",
      "bit\n"
     ]
    }
   ],
   "source": [
    "for i in company:\n",
    "    print (company[i])"
   ]
  },
  {
   "cell_type": "code",
   "execution_count": 15,
   "metadata": {},
   "outputs": [
    {
     "name": "stdout",
     "output_type": "stream",
     "text": [
      "employee {'name': 'ali', 'designation': 'manager', 'salary': 250000}\n",
      "employee2 {'name': 'saud', 'designation': 'chaprasi', 'salary': '100'}\n",
      "total_emp 3\n",
      "dep accounts\n",
      "vacancy ['clerk', 'assitants']\n",
      "name bit\n"
     ]
    }
   ],
   "source": [
    "for k,v in company.items():\n",
    "    print(k,v)"
   ]
  },
  {
   "cell_type": "code",
   "execution_count": 16,
   "metadata": {},
   "outputs": [
    {
     "name": "stdout",
     "output_type": "stream",
     "text": [
      "employee\n",
      "---> name ali\n",
      "---> designation manager\n",
      "---> salary 250000\n",
      "employee2\n",
      "---> name saud\n",
      "---> designation chaprasi\n",
      "---> salary 100\n",
      "total_emp 3\n",
      "dep accounts\n",
      "vacancy ['clerk', 'assitants']\n",
      "name bit\n"
     ]
    }
   ],
   "source": [
    "for k,v in company.items():\n",
    "    if isinstance(v,dict):\n",
    "        print(k)\n",
    "        for key,val in v.items():\n",
    "            print('--->',key,val)\n",
    "    else:\n",
    "        print(k,v)"
   ]
  },
  {
   "cell_type": "markdown",
   "metadata": {},
   "source": [
    "wap to create a dict which takes user input and stores the name of item and its price"
   ]
  },
  {
   "cell_type": "code",
   "execution_count": null,
   "metadata": {},
   "outputs": [],
   "source": []
  }
 ],
 "metadata": {
  "kernelspec": {
   "display_name": "base",
   "language": "python",
   "name": "python3"
  },
  "language_info": {
   "codemirror_mode": {
    "name": "ipython",
    "version": 3
   },
   "file_extension": ".py",
   "mimetype": "text/x-python",
   "name": "python",
   "nbconvert_exporter": "python",
   "pygments_lexer": "ipython3",
   "version": "3.10.10"
  },
  "orig_nbformat": 4
 },
 "nbformat": 4,
 "nbformat_minor": 2
}
